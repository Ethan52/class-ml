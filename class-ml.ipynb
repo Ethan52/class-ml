{
 "cells": [
  {
   "cell_type": "code",
   "execution_count": 3,
   "metadata": {},
   "outputs": [],
   "source": [
    "from __future__ import absolute_import, division, print_function, unicode_literals\n",
    "\n",
    "import numpy as np\n",
    "import tensorflow as tf\n",
    "import pandas as pd"
   ]
  },
  {
   "cell_type": "code",
   "execution_count": 18,
   "metadata": {},
   "outputs": [],
   "source": [
    "csv_column_names = [\"SepalLength\", \"SepalWidth\", \"PetalLength\", \"PetalWidth\", \"Species\"]\n",
    "species = [\"Setosa\", \"Versicolor\", \"Virginica\"]"
   ]
  },
  {
   "cell_type": "code",
   "execution_count": 5,
   "metadata": {},
   "outputs": [],
   "source": [
    "train_path = tf.keras.utils.get_file(\"iris_training.csv\", \"https://storage.googleapis.com/download.tensorflow.org/data/iris_training.csv\")\n",
    "test_path = tf.keras.utils.get_file(\"iris_test.csv\", \"https://storage.googleapis.com/download.tensorflow.org/data/iris_test.csv\")\n",
    "\n",
    "train = pd.read_csv(train_path, names=csv_column_names, header=0)\n",
    "test = pd.read_csv(test_path, names=csv_column_names, header=0)"
   ]
  },
  {
   "cell_type": "code",
   "execution_count": 6,
   "metadata": {},
   "outputs": [
    {
     "data": {
      "text/html": [
       "<div>\n",
       "<style scoped>\n",
       "    .dataframe tbody tr th:only-of-type {\n",
       "        vertical-align: middle;\n",
       "    }\n",
       "\n",
       "    .dataframe tbody tr th {\n",
       "        vertical-align: top;\n",
       "    }\n",
       "\n",
       "    .dataframe thead th {\n",
       "        text-align: right;\n",
       "    }\n",
       "</style>\n",
       "<table border=\"1\" class=\"dataframe\">\n",
       "  <thead>\n",
       "    <tr style=\"text-align: right;\">\n",
       "      <th></th>\n",
       "      <th>SepalLength</th>\n",
       "      <th>SepalWidth</th>\n",
       "      <th>PetalLength</th>\n",
       "      <th>PetalWidth</th>\n",
       "    </tr>\n",
       "  </thead>\n",
       "  <tbody>\n",
       "    <tr>\n",
       "      <th>0</th>\n",
       "      <td>6.4</td>\n",
       "      <td>2.8</td>\n",
       "      <td>5.6</td>\n",
       "      <td>2.2</td>\n",
       "    </tr>\n",
       "    <tr>\n",
       "      <th>1</th>\n",
       "      <td>5.0</td>\n",
       "      <td>2.3</td>\n",
       "      <td>3.3</td>\n",
       "      <td>1.0</td>\n",
       "    </tr>\n",
       "    <tr>\n",
       "      <th>2</th>\n",
       "      <td>4.9</td>\n",
       "      <td>2.5</td>\n",
       "      <td>4.5</td>\n",
       "      <td>1.7</td>\n",
       "    </tr>\n",
       "    <tr>\n",
       "      <th>3</th>\n",
       "      <td>4.9</td>\n",
       "      <td>3.1</td>\n",
       "      <td>1.5</td>\n",
       "      <td>0.1</td>\n",
       "    </tr>\n",
       "    <tr>\n",
       "      <th>4</th>\n",
       "      <td>5.7</td>\n",
       "      <td>3.8</td>\n",
       "      <td>1.7</td>\n",
       "      <td>0.3</td>\n",
       "    </tr>\n",
       "  </tbody>\n",
       "</table>\n",
       "</div>"
      ],
      "text/plain": [
       "   SepalLength  SepalWidth  PetalLength  PetalWidth\n",
       "0          6.4         2.8          5.6         2.2\n",
       "1          5.0         2.3          3.3         1.0\n",
       "2          4.9         2.5          4.5         1.7\n",
       "3          4.9         3.1          1.5         0.1\n",
       "4          5.7         3.8          1.7         0.3"
      ]
     },
     "execution_count": 6,
     "metadata": {},
     "output_type": "execute_result"
    }
   ],
   "source": [
    "train.head()\n",
    "train_y = train.pop(\"Species\")\n",
    "test_y = test.pop(\"Species\")\n",
    "train.head()"
   ]
  },
  {
   "cell_type": "code",
   "execution_count": 7,
   "metadata": {},
   "outputs": [],
   "source": [
    "def input_fn(features, labels, training=True, batch_size=256):\n",
    "    dataset = tf.data.Dataset.from_tensor_slices((dict(features), labels))\n",
    "\n",
    "    if training:\n",
    "        dataset = dataset.shuffle(1000).repeat()\n",
    "\n",
    "    return dataset.batch(batch_size)"
   ]
  },
  {
   "cell_type": "code",
   "execution_count": 8,
   "metadata": {},
   "outputs": [
    {
     "name": "stdout",
     "output_type": "stream",
     "text": [
      "[NumericColumn(key='SepalLength', shape=(1,), default_value=None, dtype=tf.float32, normalizer_fn=None), NumericColumn(key='SepalWidth', shape=(1,), default_value=None, dtype=tf.float32, normalizer_fn=None), NumericColumn(key='PetalLength', shape=(1,), default_value=None, dtype=tf.float32, normalizer_fn=None), NumericColumn(key='PetalWidth', shape=(1,), default_value=None, dtype=tf.float32, normalizer_fn=None)]\n"
     ]
    }
   ],
   "source": [
    "my_feature_columns = []\n",
    "for key in train.keys():\n",
    "    my_feature_columns.append(tf.feature_column.numeric_column(key=key))\n",
    "print(my_feature_columns)"
   ]
  },
  {
   "cell_type": "code",
   "execution_count": 9,
   "metadata": {},
   "outputs": [
    {
     "name": "stdout",
     "output_type": "stream",
     "text": [
      "INFO:tensorflow:Using default config.\n",
      "WARNING:tensorflow:Using temporary folder as model directory: C:\\Users\\FAZALF~1\\AppData\\Local\\Temp\\tmpyph4_3fh\n",
      "INFO:tensorflow:Using config: {'_model_dir': 'C:\\\\Users\\\\FAZALF~1\\\\AppData\\\\Local\\\\Temp\\\\tmpyph4_3fh', '_tf_random_seed': None, '_save_summary_steps': 100, '_save_checkpoints_steps': None, '_save_checkpoints_secs': 600, '_session_config': allow_soft_placement: true\n",
      "graph_options {\n",
      "  rewrite_options {\n",
      "    meta_optimizer_iterations: ONE\n",
      "  }\n",
      "}\n",
      ", '_keep_checkpoint_max': 5, '_keep_checkpoint_every_n_hours': 10000, '_log_step_count_steps': 100, '_train_distribute': None, '_device_fn': None, '_protocol': None, '_eval_distribute': None, '_experimental_distribute': None, '_experimental_max_worker_delay_secs': None, '_session_creation_timeout_secs': 7200, '_checkpoint_save_graph_def': True, '_service': None, '_cluster_spec': ClusterSpec({}), '_task_type': 'worker', '_task_id': 0, '_global_id_in_cluster': 0, '_master': '', '_evaluation_master': '', '_is_chief': True, '_num_ps_replicas': 0, '_num_worker_replicas': 1}\n"
     ]
    }
   ],
   "source": [
    "# creating the DNN (Deep Neural Network) classifier\n",
    "classifier = tf.estimator.DNNClassifier(\n",
    "    feature_columns=my_feature_columns,\n",
    "    # 2 hidden layers of 30 and 10 nodes\n",
    "    hidden_units=[30, 10], \n",
    "    # model will choose between 3 class (three types of flowers)\n",
    "    n_classes=3\n",
    ")"
   ]
  },
  {
   "cell_type": "code",
   "execution_count": 13,
   "metadata": {},
   "outputs": [
    {
     "name": "stdout",
     "output_type": "stream",
     "text": [
      "INFO:tensorflow:Calling model_fn.\n",
      "INFO:tensorflow:Done calling model_fn.\n",
      "INFO:tensorflow:Create CheckpointSaverHook.\n",
      "INFO:tensorflow:Graph was finalized.\n",
      "INFO:tensorflow:Restoring parameters from C:\\Users\\FAZALF~1\\AppData\\Local\\Temp\\tmpyph4_3fh\\model.ckpt-5000\n",
      "WARNING:tensorflow:From C:\\Users\\Fazal Family\\AppData\\Local\\Packages\\PythonSoftwareFoundation.Python.3.9_qbz5n2kfra8p0\\LocalCache\\local-packages\\Python39\\site-packages\\tensorflow\\python\\training\\saver.py:1175: get_checkpoint_mtimes (from tensorflow.python.training.checkpoint_management) is deprecated and will be removed in a future version.\n",
      "Instructions for updating:\n",
      "Use standard file utilities to get mtimes.\n",
      "INFO:tensorflow:Running local_init_op.\n",
      "INFO:tensorflow:Done running local_init_op.\n",
      "INFO:tensorflow:Calling checkpoint listeners before saving checkpoint 5000...\n",
      "INFO:tensorflow:Saving checkpoints for 5000 into C:\\Users\\FAZALF~1\\AppData\\Local\\Temp\\tmpyph4_3fh\\model.ckpt.\n",
      "INFO:tensorflow:C:\\Users\\FAZALF~1\\AppData\\Local\\Temp\\tmpyph4_3fh\\model.ckpt-5000.data-00000-of-00001\n",
      "INFO:tensorflow:0\n",
      "INFO:tensorflow:C:\\Users\\FAZALF~1\\AppData\\Local\\Temp\\tmpyph4_3fh\\model.ckpt-5000.index\n",
      "INFO:tensorflow:0\n",
      "INFO:tensorflow:C:\\Users\\FAZALF~1\\AppData\\Local\\Temp\\tmpyph4_3fh\\model.ckpt-5000.meta\n",
      "INFO:tensorflow:100\n",
      "INFO:tensorflow:Calling checkpoint listeners after saving checkpoint 5000...\n",
      "INFO:tensorflow:loss = 0.7809394, step = 5000\n",
      "INFO:tensorflow:global_step/sec: 238.664\n",
      "INFO:tensorflow:loss = 0.7793775, step = 5100 (0.420 sec)\n",
      "INFO:tensorflow:global_step/sec: 328.947\n",
      "INFO:tensorflow:loss = 0.79306734, step = 5200 (0.304 sec)\n",
      "INFO:tensorflow:global_step/sec: 308.643\n",
      "INFO:tensorflow:loss = 0.7805703, step = 5300 (0.323 sec)\n",
      "INFO:tensorflow:global_step/sec: 315.456\n",
      "INFO:tensorflow:loss = 0.76661056, step = 5400 (0.317 sec)\n",
      "INFO:tensorflow:global_step/sec: 343.95\n",
      "INFO:tensorflow:loss = 0.7598713, step = 5500 (0.292 sec)\n",
      "INFO:tensorflow:global_step/sec: 320.513\n",
      "INFO:tensorflow:loss = 0.7779279, step = 5600 (0.312 sec)\n",
      "INFO:tensorflow:global_step/sec: 321.543\n",
      "INFO:tensorflow:loss = 0.7778109, step = 5700 (0.310 sec)\n",
      "INFO:tensorflow:global_step/sec: 315.459\n",
      "INFO:tensorflow:loss = 0.7659201, step = 5800 (0.318 sec)\n",
      "INFO:tensorflow:global_step/sec: 298.507\n",
      "INFO:tensorflow:loss = 0.7672545, step = 5900 (0.335 sec)\n",
      "INFO:tensorflow:global_step/sec: 303.951\n",
      "INFO:tensorflow:loss = 0.7723741, step = 6000 (0.328 sec)\n",
      "INFO:tensorflow:global_step/sec: 332.228\n",
      "INFO:tensorflow:loss = 0.7605157, step = 6100 (0.302 sec)\n",
      "INFO:tensorflow:global_step/sec: 270.269\n",
      "INFO:tensorflow:loss = 0.76011896, step = 6200 (0.369 sec)\n",
      "INFO:tensorflow:global_step/sec: 287.357\n",
      "INFO:tensorflow:loss = 0.7557709, step = 6300 (0.349 sec)\n",
      "INFO:tensorflow:global_step/sec: 305.81\n",
      "INFO:tensorflow:loss = 0.76753867, step = 6400 (0.327 sec)\n",
      "INFO:tensorflow:global_step/sec: 349.651\n",
      "INFO:tensorflow:loss = 0.7573448, step = 6500 (0.286 sec)\n",
      "INFO:tensorflow:global_step/sec: 346.021\n",
      "INFO:tensorflow:loss = 0.75161135, step = 6600 (0.288 sec)\n",
      "INFO:tensorflow:global_step/sec: 343.641\n",
      "INFO:tensorflow:loss = 0.75010264, step = 6700 (0.291 sec)\n",
      "INFO:tensorflow:global_step/sec: 301.204\n",
      "INFO:tensorflow:loss = 0.76880103, step = 6800 (0.334 sec)\n",
      "INFO:tensorflow:global_step/sec: 294.987\n",
      "INFO:tensorflow:loss = 0.7728325, step = 6900 (0.338 sec)\n",
      "INFO:tensorflow:global_step/sec: 302.115\n",
      "INFO:tensorflow:loss = 0.7399688, step = 7000 (0.332 sec)\n",
      "INFO:tensorflow:global_step/sec: 294.985\n",
      "INFO:tensorflow:loss = 0.7489478, step = 7100 (0.337 sec)\n",
      "INFO:tensorflow:global_step/sec: 289.846\n",
      "INFO:tensorflow:loss = 0.7573926, step = 7200 (0.346 sec)\n",
      "INFO:tensorflow:global_step/sec: 254.46\n",
      "INFO:tensorflow:loss = 0.74919605, step = 7300 (0.392 sec)\n",
      "INFO:tensorflow:global_step/sec: 313.472\n",
      "INFO:tensorflow:loss = 0.7468426, step = 7400 (0.320 sec)\n",
      "INFO:tensorflow:global_step/sec: 320.521\n",
      "INFO:tensorflow:loss = 0.76483715, step = 7500 (0.312 sec)\n",
      "INFO:tensorflow:global_step/sec: 319.488\n",
      "INFO:tensorflow:loss = 0.73404443, step = 7600 (0.313 sec)\n",
      "INFO:tensorflow:global_step/sec: 324.673\n",
      "INFO:tensorflow:loss = 0.75312054, step = 7700 (0.308 sec)\n",
      "INFO:tensorflow:global_step/sec: 316.457\n",
      "INFO:tensorflow:loss = 0.7575026, step = 7800 (0.316 sec)\n",
      "INFO:tensorflow:global_step/sec: 334.996\n",
      "INFO:tensorflow:loss = 0.76112974, step = 7900 (0.299 sec)\n",
      "INFO:tensorflow:global_step/sec: 338.847\n",
      "INFO:tensorflow:loss = 0.74905473, step = 8000 (0.295 sec)\n",
      "INFO:tensorflow:global_step/sec: 325.732\n",
      "INFO:tensorflow:loss = 0.7378013, step = 8100 (0.307 sec)\n",
      "INFO:tensorflow:global_step/sec: 313.48\n",
      "INFO:tensorflow:loss = 0.71936095, step = 8200 (0.318 sec)\n",
      "INFO:tensorflow:global_step/sec: 322.573\n",
      "INFO:tensorflow:loss = 0.73865855, step = 8300 (0.311 sec)\n",
      "INFO:tensorflow:global_step/sec: 323.63\n",
      "INFO:tensorflow:loss = 0.7552646, step = 8400 (0.309 sec)\n",
      "INFO:tensorflow:global_step/sec: 317.463\n",
      "INFO:tensorflow:loss = 0.7316742, step = 8500 (0.314 sec)\n",
      "INFO:tensorflow:global_step/sec: 345.01\n",
      "INFO:tensorflow:loss = 0.7375641, step = 8600 (0.291 sec)\n",
      "INFO:tensorflow:global_step/sec: 321.542\n",
      "INFO:tensorflow:loss = 0.7346065, step = 8700 (0.311 sec)\n",
      "INFO:tensorflow:global_step/sec: 330.033\n",
      "INFO:tensorflow:loss = 0.7385634, step = 8800 (0.303 sec)\n",
      "INFO:tensorflow:global_step/sec: 274.726\n",
      "INFO:tensorflow:loss = 0.7345815, step = 8900 (0.364 sec)\n",
      "INFO:tensorflow:global_step/sec: 320.513\n",
      "INFO:tensorflow:loss = 0.74370885, step = 9000 (0.312 sec)\n",
      "INFO:tensorflow:global_step/sec: 324.66\n",
      "INFO:tensorflow:loss = 0.7263544, step = 9100 (0.308 sec)\n",
      "INFO:tensorflow:global_step/sec: 342.233\n",
      "INFO:tensorflow:loss = 0.72615325, step = 9200 (0.292 sec)\n",
      "INFO:tensorflow:global_step/sec: 325.73\n",
      "INFO:tensorflow:loss = 0.73474926, step = 9300 (0.309 sec)\n",
      "INFO:tensorflow:global_step/sec: 328.95\n",
      "INFO:tensorflow:loss = 0.73099077, step = 9400 (0.303 sec)\n",
      "INFO:tensorflow:global_step/sec: 324.675\n",
      "INFO:tensorflow:loss = 0.72614586, step = 9500 (0.307 sec)\n",
      "INFO:tensorflow:global_step/sec: 323.626\n",
      "INFO:tensorflow:loss = 0.7357023, step = 9600 (0.308 sec)\n",
      "INFO:tensorflow:global_step/sec: 331.125\n",
      "INFO:tensorflow:loss = 0.7126212, step = 9700 (0.303 sec)\n",
      "INFO:tensorflow:global_step/sec: 331.127\n",
      "INFO:tensorflow:loss = 0.7250983, step = 9800 (0.302 sec)\n",
      "INFO:tensorflow:global_step/sec: 355.871\n",
      "INFO:tensorflow:loss = 0.72182226, step = 9900 (0.282 sec)\n",
      "INFO:tensorflow:Calling checkpoint listeners before saving checkpoint 10000...\n",
      "INFO:tensorflow:Saving checkpoints for 10000 into C:\\Users\\FAZALF~1\\AppData\\Local\\Temp\\tmpyph4_3fh\\model.ckpt.\n",
      "INFO:tensorflow:C:\\Users\\FAZALF~1\\AppData\\Local\\Temp\\tmpyph4_3fh\\model.ckpt-10000.data-00000-of-00001\n",
      "INFO:tensorflow:0\n",
      "INFO:tensorflow:C:\\Users\\FAZALF~1\\AppData\\Local\\Temp\\tmpyph4_3fh\\model.ckpt-10000.index\n",
      "INFO:tensorflow:0\n",
      "INFO:tensorflow:C:\\Users\\FAZALF~1\\AppData\\Local\\Temp\\tmpyph4_3fh\\model.ckpt-10000.meta\n",
      "INFO:tensorflow:100\n",
      "INFO:tensorflow:Calling checkpoint listeners after saving checkpoint 10000...\n",
      "INFO:tensorflow:Loss for final step: 0.74234223.\n"
     ]
    },
    {
     "data": {
      "text/plain": [
       "<tensorflow_estimator.python.estimator.canned.dnn.DNNClassifierV2 at 0x29d06b24a90>"
      ]
     },
     "execution_count": 13,
     "metadata": {},
     "output_type": "execute_result"
    }
   ],
   "source": [
    "classifier.train(\n",
    "    input_fn=lambda: input_fn(train, train_y, training=True),\n",
    "    steps=5000\n",
    ")"
   ]
  },
  {
   "cell_type": "code",
   "execution_count": 14,
   "metadata": {},
   "outputs": [
    {
     "name": "stdout",
     "output_type": "stream",
     "text": [
      "INFO:tensorflow:Calling model_fn.\n",
      "INFO:tensorflow:Done calling model_fn.\n",
      "INFO:tensorflow:Starting evaluation at 2022-08-27T15:40:41\n",
      "INFO:tensorflow:Graph was finalized.\n",
      "INFO:tensorflow:Restoring parameters from C:\\Users\\FAZALF~1\\AppData\\Local\\Temp\\tmpyph4_3fh\\model.ckpt-10000\n",
      "INFO:tensorflow:Running local_init_op.\n",
      "INFO:tensorflow:Done running local_init_op.\n",
      "INFO:tensorflow:Inference Time : 0.40705s\n",
      "INFO:tensorflow:Finished evaluation at 2022-08-27-15:40:42\n",
      "INFO:tensorflow:Saving dict for global step 10000: accuracy = 0.6, average_loss = 0.7999763, global_step = 10000, loss = 0.7999763\n",
      "INFO:tensorflow:Saving 'checkpoint_path' summary for global step 10000: C:\\Users\\FAZALF~1\\AppData\\Local\\Temp\\tmpyph4_3fh\\model.ckpt-10000\n",
      "\n",
      "Test set accuracy: 0.600\n",
      "\n"
     ]
    }
   ],
   "source": [
    "eval_result = classifier.evaluate(input_fn=lambda: input_fn(test, test_y, training=False))\n",
    "print('\\nTest set accuracy: {accuracy:0.3f}\\n'.format(**eval_result))"
   ]
  },
  {
   "cell_type": "code",
   "execution_count": 19,
   "metadata": {},
   "outputs": [
    {
     "name": "stdout",
     "output_type": "stream",
     "text": [
      "Please type numeric values as prompted.\n",
      "INFO:tensorflow:Calling model_fn.\n",
      "INFO:tensorflow:Done calling model_fn.\n",
      "INFO:tensorflow:Graph was finalized.\n",
      "INFO:tensorflow:Restoring parameters from C:\\Users\\FAZALF~1\\AppData\\Local\\Temp\\tmpyph4_3fh\\model.ckpt-10000\n",
      "INFO:tensorflow:Running local_init_op.\n",
      "INFO:tensorflow:Done running local_init_op.\n",
      "Prediction is \"Virginica\" (36.3%)\n"
     ]
    }
   ],
   "source": [
    "def input_fn(features, batch_size=256):\n",
    "    return tf.data.Dataset.from_tensor_slices(dict(features)).batch(batch_size)\n",
    "\n",
    "features = ['SepalLength', 'SepalWidth', 'PetalLength', 'PetalWidth']\n",
    "predict = {}\n",
    "\n",
    "print(\"Please type numeric values as prompted.\")\n",
    "for feature in features:\n",
    "    valid = True\n",
    "    while valid:\n",
    "        val = input(feature + ': ')\n",
    "        if not val.isdigit(): valid = False\n",
    "    \n",
    "    predict[feature] = [float(val)]\n",
    "\n",
    "predictions = classifier.predict(input_fn=lambda: input_fn(predict))\n",
    "for pred_dict in predictions:\n",
    "    class_id = pred_dict['class_ids'][0]\n",
    "    probability = pred_dict['probabilities'][class_id]\n",
    "\n",
    "    print('Prediction is \"{}\" ({:.1f}%)'.format(\n",
    "        species[class_id], 100 * probability\n",
    "    ))"
   ]
  }
 ],
 "metadata": {
  "kernelspec": {
   "display_name": "Python 3.9.13 64-bit (windows store)",
   "language": "python",
   "name": "python3"
  },
  "language_info": {
   "codemirror_mode": {
    "name": "ipython",
    "version": 3
   },
   "file_extension": ".py",
   "mimetype": "text/x-python",
   "name": "python",
   "nbconvert_exporter": "python",
   "pygments_lexer": "ipython3",
   "version": "3.9.13"
  },
  "orig_nbformat": 4,
  "vscode": {
   "interpreter": {
    "hash": "58021b35d8474147229bc3221569c1740352f0203261d4e98e7c1591930d9e93"
   }
  }
 },
 "nbformat": 4,
 "nbformat_minor": 2
}
